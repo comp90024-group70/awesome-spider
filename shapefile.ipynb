{
 "cells": [
  {
   "cell_type": "code",
   "execution_count": 1,
   "metadata": {},
   "outputs": [],
   "source": [
    "import pandas as pd\n",
    "import requests\n",
    "import os\n",
    "from zipfile import ZipFile\n",
    "import zipfile"
   ]
  },
  {
   "cell_type": "code",
   "execution_count": 2,
   "metadata": {},
   "outputs": [],
   "source": [
    "dls = \"https://www.abs.gov.au/statistics/standards/australian-statistical-geography-standard-asgs-edition-3/jul2021-jun2026/access-and-downloads/digital-boundary-files/GCCSA_2021_AUST_SHP_GDA2020.zip\"\n",
    "resp = requests.get(dls)\n",
    "# open gcc_shapefile.zil\n",
    "output = open('../Data/gcc_sf.zip', 'wb')\n",
    "output.write(resp.content)\n",
    "output.close()\n",
    "\n",
    "path = \"../Data/gcc_sf\"\n",
    "#create folder\n",
    "#os.mkdir(path) \n",
    "# save zip to a folder\n",
    "with zipfile.ZipFile(\"../Data/gcc_sf.zip\", mode=\"r\") as archive:\n",
    "    archive.extractall(\"../Data/gcc_sf\")\n",
    "    archive.close()\n",
    "# remove gcc_sf.zip\n",
    "os.remove(\"../Data/gcc_sf.zip\")"
   ]
  },
  {
   "cell_type": "code",
   "execution_count": 3,
   "metadata": {},
   "outputs": [],
   "source": [
    "# SA4 shapefile extract\n",
    "dls1 =  \"https://www.abs.gov.au/statistics/standards/australian-statistical-geography-standard-asgs-edition-3/jul2021-jun2026/access-and-downloads/digital-boundary-files/SA4_2021_AUST_SHP_GDA2020.zip\"\n",
    "resp1 = requests.get(dls1)\n",
    "output1 = open('../Data/sa4_sf.zip', 'wb')\n",
    "output1.write(resp1.content)\n",
    "output1.close()\n",
    "with zipfile.ZipFile(\"../Data/sa4_sf.zip\", mode=\"r\") as archive1:\n",
    "    archive1.extractall(\"../Data/sa4_sf\")\n",
    "    archive1.close()\n",
    "os.remove(\"../Data/sa4_sf.zip\")"
   ]
  }
 ],
 "metadata": {
  "kernelspec": {
   "display_name": "base",
   "language": "python",
   "name": "python3"
  },
  "language_info": {
   "codemirror_mode": {
    "name": "ipython",
    "version": 3
   },
   "file_extension": ".py",
   "mimetype": "text/x-python",
   "name": "python",
   "nbconvert_exporter": "python",
   "pygments_lexer": "ipython3",
   "version": "3.9.13"
  },
  "orig_nbformat": 4
 },
 "nbformat": 4,
 "nbformat_minor": 2
}
