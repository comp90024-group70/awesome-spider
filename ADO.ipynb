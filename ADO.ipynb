{
 "cells": [
  {
   "cell_type": "code",
   "execution_count": 2,
   "metadata": {},
   "outputs": [],
   "source": [
    "import requests\n",
    "from requests.auth import HTTPBasicAuth\n",
    "import json"
   ]
  },
  {
   "cell_type": "code",
   "execution_count": 3,
   "metadata": {},
   "outputs": [],
   "source": [
    "API_KEY = 'a2a6e2f96a2c94a04661aacc6e3092a4'\n",
    "\n",
    "\n",
    "url = \"https://api.ado.eresearch.unimelb.edu.au/login\"\n",
    "res = requests.post(url, auth=HTTPBasicAuth('apikey', API_KEY))\n",
    "if res.ok:\n",
    "   jwt = res.text\n",
    "\n",
    "url = 'https://api.ado.eresearch.unimelb.edu.au/analysis/nlp/collections/twitter/topics'\n",
    "# query parameters set in the dict below\n",
    "headers = {'Authorization': f\"Bearer {jwt}\"}\n",
    "qs_params = { 'startDate' : '2022-04-10' , 'endDate':'2022-06-10' }\n",
    "res = requests.get(url, headers = headers, params=qs_params)\n",
    "result = res.json()"
   ]
  },
  {
   "cell_type": "code",
   "execution_count": 4,
   "metadata": {},
   "outputs": [],
   "source": [
    "with open('../Data/ADO.json', 'w') as f:\n",
    "    json.dump(result, f)"
   ]
  }
 ],
 "metadata": {
  "kernelspec": {
   "display_name": "base",
   "language": "python",
   "name": "python3"
  },
  "language_info": {
   "codemirror_mode": {
    "name": "ipython",
    "version": 3
   },
   "file_extension": ".py",
   "mimetype": "text/x-python",
   "name": "python",
   "nbconvert_exporter": "python",
   "pygments_lexer": "ipython3",
   "version": "3.9.13"
  },
  "orig_nbformat": 4
 },
 "nbformat": 4,
 "nbformat_minor": 2
}
