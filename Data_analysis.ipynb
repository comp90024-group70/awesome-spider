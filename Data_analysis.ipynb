{
 "cells": [
  {
   "cell_type": "code",
   "execution_count": 1,
   "metadata": {},
   "outputs": [],
   "source": [
    "import numpy as np\n",
    "import pandas as pd\n",
    "import matplotlib.pyplot as plt\n",
    "from sklearn import preprocessing\n",
    "import folium\n",
    "import geopy\n",
    "import geopandas as gpd"
   ]
  },
  {
   "cell_type": "code",
   "execution_count": 2,
   "metadata": {},
   "outputs": [],
   "source": [
    "d = {'Topic_key_word': [1,2,3,4,5,6,7,8,9,10], \n",
    "     'Key words': ['job', 'election,momey,covid,support', 'australia,family','photo,australia','family,australia','family,hope',\n",
    "                   'australia,family','country,change','team,win,country','governemnt,labor,vote']}\n",
    "df_word = pd.DataFrame(data=d)\n",
    "\n",
    "df_tw = pd.read_csv('../Data/Twitter_LDA.csv')\n",
    "df_tw = df_tw.merge(df_word, left_on=\"Topic_key_word\", right_on=\"Topic_key_word\")\n",
    "df_tw = df_tw[~(df_tw['Greater Capital City'].str[1] == 'r')]\n",
    "\n",
    "def labeling(x):\n",
    "    if x < 0 and x >= -2:\n",
    "        return 'negative'\n",
    "    elif x < -2:\n",
    "        return 'very negative'\n",
    "    elif x==0:\n",
    "        return 'neutral'\n",
    "    elif x > 0 and x <= 2:\n",
    "        return 'positive'\n",
    "    else:\n",
    "        return 'very positive'\n",
    "df_tw[\"sentiment_la\"]=df_tw[\"sentiment\"].map(lambda x: labeling(x))\n",
    "\n",
    "df_tw[\"Latitude\"] = (df_tw[\"bottom\"] + df_tw[\"top\"])/2\n",
    "df_tw[\"Longitude\"] = (df_tw[\"left\"] + df_tw[\"right\"])/2\n",
    "\n",
    "array = [2]\n",
    "df_cov = df_tw.loc[df_tw.Topic_key_word.isin(array)].reset_index(drop=True)\n",
    "df_cov.to_csv('../Data/twiter_topic_cov.csv')\n",
    "array = [3, 5, 7]\n",
    "df_fam = df_tw.loc[df_tw.Topic_key_word.isin(array)].reset_index(drop=True)\n",
    "df_fam.to_csv('../Data/twiter_topic_fam.csv')\n",
    "array = [10]\n",
    "df_job = df_tw.loc[df_tw.Topic_key_word.isin(array)].reset_index(drop=True)\n",
    "df_job.to_csv('../Data/twiter_topic_job.csv')"
   ]
  },
  {
   "cell_type": "code",
   "execution_count": 3,
   "metadata": {},
   "outputs": [
    {
     "data": {
      "text/html": [
       "<div>\n",
       "<style scoped>\n",
       "    .dataframe tbody tr th:only-of-type {\n",
       "        vertical-align: middle;\n",
       "    }\n",
       "\n",
       "    .dataframe tbody tr th {\n",
       "        vertical-align: top;\n",
       "    }\n",
       "\n",
       "    .dataframe thead th {\n",
       "        text-align: right;\n",
       "    }\n",
       "</style>\n",
       "<table border=\"1\" class=\"dataframe\">\n",
       "  <thead>\n",
       "    <tr style=\"text-align: right;\">\n",
       "      <th></th>\n",
       "      <th>Unnamed: 0</th>\n",
       "      <th>author_id</th>\n",
       "      <th>cleaned_text</th>\n",
       "      <th>sentiment</th>\n",
       "      <th>gcc</th>\n",
       "      <th>left</th>\n",
       "      <th>bottom</th>\n",
       "      <th>right</th>\n",
       "      <th>top</th>\n",
       "      <th>Language</th>\n",
       "      <th>Greater Capital City</th>\n",
       "      <th>Topic_key_word</th>\n",
       "      <th>Key words</th>\n",
       "      <th>sentiment_la</th>\n",
       "      <th>Latitude</th>\n",
       "      <th>Longitude</th>\n",
       "    </tr>\n",
       "  </thead>\n",
       "  <tbody>\n",
       "    <tr>\n",
       "      <th>105</th>\n",
       "      <td>253</td>\n",
       "      <td>1108711866212052993</td>\n",
       "      <td>not|the|guy|that|took|the|job|wanted|were|the|...</td>\n",
       "      <td>0.000000</td>\n",
       "      <td>perth</td>\n",
       "      <td>115.617614</td>\n",
       "      <td>-32.675715</td>\n",
       "      <td>116.239023</td>\n",
       "      <td>-31.624486</td>\n",
       "      <td>en</td>\n",
       "      <td>5gper</td>\n",
       "      <td>1</td>\n",
       "      <td>job</td>\n",
       "      <td>neutral</td>\n",
       "      <td>-32.150100</td>\n",
       "      <td>115.928319</td>\n",
       "    </tr>\n",
       "    <tr>\n",
       "      <th>119</th>\n",
       "      <td>296</td>\n",
       "      <td>51403576</td>\n",
       "      <td>one|asked|what|her|partner|did|for|are|not|the...</td>\n",
       "      <td>0.019231</td>\n",
       "      <td>perth</td>\n",
       "      <td>115.617614</td>\n",
       "      <td>-32.675715</td>\n",
       "      <td>116.239023</td>\n",
       "      <td>-31.624486</td>\n",
       "      <td>en</td>\n",
       "      <td>5gper</td>\n",
       "      <td>1</td>\n",
       "      <td>job</td>\n",
       "      <td>positive</td>\n",
       "      <td>-32.150100</td>\n",
       "      <td>115.928319</td>\n",
       "    </tr>\n",
       "    <tr>\n",
       "      <th>425</th>\n",
       "      <td>1038</td>\n",
       "      <td>3091736826</td>\n",
       "      <td>yes|for|several|years|one|first|jobs|and|out|l...</td>\n",
       "      <td>0.058824</td>\n",
       "      <td>perth</td>\n",
       "      <td>115.617614</td>\n",
       "      <td>-32.675715</td>\n",
       "      <td>116.239023</td>\n",
       "      <td>-31.624486</td>\n",
       "      <td>en</td>\n",
       "      <td>5gper</td>\n",
       "      <td>1</td>\n",
       "      <td>job</td>\n",
       "      <td>positive</td>\n",
       "      <td>-32.150100</td>\n",
       "      <td>115.928319</td>\n",
       "    </tr>\n",
       "    <tr>\n",
       "      <th>685</th>\n",
       "      <td>1666</td>\n",
       "      <td>709642244836478976</td>\n",
       "      <td>going|job|tomorrow|again|off</td>\n",
       "      <td>0.300000</td>\n",
       "      <td>perth</td>\n",
       "      <td>115.617614</td>\n",
       "      <td>-32.675715</td>\n",
       "      <td>116.239023</td>\n",
       "      <td>-31.624486</td>\n",
       "      <td>en</td>\n",
       "      <td>5gper</td>\n",
       "      <td>1</td>\n",
       "      <td>job</td>\n",
       "      <td>positive</td>\n",
       "      <td>-32.150100</td>\n",
       "      <td>115.928319</td>\n",
       "    </tr>\n",
       "    <tr>\n",
       "      <th>869</th>\n",
       "      <td>2128</td>\n",
       "      <td>28356058</td>\n",
       "      <td>lol|you|tattooed|you|can|potentially|get|fired...</td>\n",
       "      <td>0.058824</td>\n",
       "      <td>perth</td>\n",
       "      <td>115.617614</td>\n",
       "      <td>-32.675715</td>\n",
       "      <td>116.239023</td>\n",
       "      <td>-31.624486</td>\n",
       "      <td>en</td>\n",
       "      <td>5gper</td>\n",
       "      <td>1</td>\n",
       "      <td>job</td>\n",
       "      <td>positive</td>\n",
       "      <td>-32.150100</td>\n",
       "      <td>115.928319</td>\n",
       "    </tr>\n",
       "    <tr>\n",
       "      <th>...</th>\n",
       "      <td>...</td>\n",
       "      <td>...</td>\n",
       "      <td>...</td>\n",
       "      <td>...</td>\n",
       "      <td>...</td>\n",
       "      <td>...</td>\n",
       "      <td>...</td>\n",
       "      <td>...</td>\n",
       "      <td>...</td>\n",
       "      <td>...</td>\n",
       "      <td>...</td>\n",
       "      <td>...</td>\n",
       "      <td>...</td>\n",
       "      <td>...</td>\n",
       "      <td>...</td>\n",
       "      <td>...</td>\n",
       "    </tr>\n",
       "    <tr>\n",
       "      <th>2180147</th>\n",
       "      <td>2365088</td>\n",
       "      <td>9360352</td>\n",
       "      <td>think|quite|few|were|paid|well|for|doing|their...</td>\n",
       "      <td>0.000000</td>\n",
       "      <td>carnegie</td>\n",
       "      <td>145.044690</td>\n",
       "      <td>-37.906499</td>\n",
       "      <td>145.067459</td>\n",
       "      <td>-37.881020</td>\n",
       "      <td>en</td>\n",
       "      <td>2gmel</td>\n",
       "      <td>3</td>\n",
       "      <td>australia,family</td>\n",
       "      <td>neutral</td>\n",
       "      <td>-37.893759</td>\n",
       "      <td>145.056075</td>\n",
       "    </tr>\n",
       "    <tr>\n",
       "      <th>2181192</th>\n",
       "      <td>2396322</td>\n",
       "      <td>624351146</td>\n",
       "      <td>the|problem|with|the|generation|millennials|th...</td>\n",
       "      <td>0.000000</td>\n",
       "      <td>menangle</td>\n",
       "      <td>150.736104</td>\n",
       "      <td>-34.134971</td>\n",
       "      <td>150.743099</td>\n",
       "      <td>-34.125377</td>\n",
       "      <td>en</td>\n",
       "      <td>1gsyd</td>\n",
       "      <td>3</td>\n",
       "      <td>australia,family</td>\n",
       "      <td>neutral</td>\n",
       "      <td>-34.130174</td>\n",
       "      <td>150.739602</td>\n",
       "    </tr>\n",
       "    <tr>\n",
       "      <th>2181193</th>\n",
       "      <td>2396324</td>\n",
       "      <td>624351146</td>\n",
       "      <td>the|problem|with|the|generation|millennials|th...</td>\n",
       "      <td>0.000000</td>\n",
       "      <td>menangle</td>\n",
       "      <td>150.736104</td>\n",
       "      <td>-34.134971</td>\n",
       "      <td>150.743099</td>\n",
       "      <td>-34.125377</td>\n",
       "      <td>en</td>\n",
       "      <td>1gsyd</td>\n",
       "      <td>3</td>\n",
       "      <td>australia,family</td>\n",
       "      <td>neutral</td>\n",
       "      <td>-34.130174</td>\n",
       "      <td>150.739602</td>\n",
       "    </tr>\n",
       "    <tr>\n",
       "      <th>2181893</th>\n",
       "      <td>2413416</td>\n",
       "      <td>76908648</td>\n",
       "      <td>the|home|factor|australian|sport|strange|don|s...</td>\n",
       "      <td>-0.038462</td>\n",
       "      <td>keysborough</td>\n",
       "      <td>145.137298</td>\n",
       "      <td>-38.032846</td>\n",
       "      <td>145.194737</td>\n",
       "      <td>-37.979907</td>\n",
       "      <td>en</td>\n",
       "      <td>2gmel</td>\n",
       "      <td>3</td>\n",
       "      <td>australia,family</td>\n",
       "      <td>negative</td>\n",
       "      <td>-38.006377</td>\n",
       "      <td>145.166018</td>\n",
       "    </tr>\n",
       "    <tr>\n",
       "      <th>2181914</th>\n",
       "      <td>2414088</td>\n",
       "      <td>19204267</td>\n",
       "      <td>scott|morrison|thinks|not|his|job|fix|the|risi...</td>\n",
       "      <td>-0.031250</td>\n",
       "      <td>chermside</td>\n",
       "      <td>153.020321</td>\n",
       "      <td>-27.396584</td>\n",
       "      <td>153.046112</td>\n",
       "      <td>-27.374216</td>\n",
       "      <td>en</td>\n",
       "      <td>3gbri</td>\n",
       "      <td>3</td>\n",
       "      <td>australia,family</td>\n",
       "      <td>negative</td>\n",
       "      <td>-27.385400</td>\n",
       "      <td>153.033216</td>\n",
       "    </tr>\n",
       "  </tbody>\n",
       "</table>\n",
       "<p>18554 rows × 16 columns</p>\n",
       "</div>"
      ],
      "text/plain": [
       "         Unnamed: 0            author_id   \n",
       "105             253  1108711866212052993  \\\n",
       "119             296             51403576   \n",
       "425            1038           3091736826   \n",
       "685            1666   709642244836478976   \n",
       "869            2128             28356058   \n",
       "...             ...                  ...   \n",
       "2180147     2365088              9360352   \n",
       "2181192     2396322            624351146   \n",
       "2181193     2396324            624351146   \n",
       "2181893     2413416             76908648   \n",
       "2181914     2414088             19204267   \n",
       "\n",
       "                                              cleaned_text  sentiment   \n",
       "105      not|the|guy|that|took|the|job|wanted|were|the|...   0.000000  \\\n",
       "119      one|asked|what|her|partner|did|for|are|not|the...   0.019231   \n",
       "425      yes|for|several|years|one|first|jobs|and|out|l...   0.058824   \n",
       "685                           going|job|tomorrow|again|off   0.300000   \n",
       "869      lol|you|tattooed|you|can|potentially|get|fired...   0.058824   \n",
       "...                                                    ...        ...   \n",
       "2180147  think|quite|few|were|paid|well|for|doing|their...   0.000000   \n",
       "2181192  the|problem|with|the|generation|millennials|th...   0.000000   \n",
       "2181193  the|problem|with|the|generation|millennials|th...   0.000000   \n",
       "2181893  the|home|factor|australian|sport|strange|don|s...  -0.038462   \n",
       "2181914  scott|morrison|thinks|not|his|job|fix|the|risi...  -0.031250   \n",
       "\n",
       "                 gcc        left     bottom       right        top Language   \n",
       "105            perth  115.617614 -32.675715  116.239023 -31.624486       en  \\\n",
       "119            perth  115.617614 -32.675715  116.239023 -31.624486       en   \n",
       "425            perth  115.617614 -32.675715  116.239023 -31.624486       en   \n",
       "685            perth  115.617614 -32.675715  116.239023 -31.624486       en   \n",
       "869            perth  115.617614 -32.675715  116.239023 -31.624486       en   \n",
       "...              ...         ...        ...         ...        ...      ...   \n",
       "2180147     carnegie  145.044690 -37.906499  145.067459 -37.881020       en   \n",
       "2181192     menangle  150.736104 -34.134971  150.743099 -34.125377       en   \n",
       "2181193     menangle  150.736104 -34.134971  150.743099 -34.125377       en   \n",
       "2181893  keysborough  145.137298 -38.032846  145.194737 -37.979907       en   \n",
       "2181914    chermside  153.020321 -27.396584  153.046112 -27.374216       en   \n",
       "\n",
       "        Greater Capital City  Topic_key_word         Key words sentiment_la   \n",
       "105                    5gper               1               job      neutral  \\\n",
       "119                    5gper               1               job     positive   \n",
       "425                    5gper               1               job     positive   \n",
       "685                    5gper               1               job     positive   \n",
       "869                    5gper               1               job     positive   \n",
       "...                      ...             ...               ...          ...   \n",
       "2180147                2gmel               3  australia,family      neutral   \n",
       "2181192                1gsyd               3  australia,family      neutral   \n",
       "2181193                1gsyd               3  australia,family      neutral   \n",
       "2181893                2gmel               3  australia,family     negative   \n",
       "2181914                3gbri               3  australia,family     negative   \n",
       "\n",
       "          Latitude   Longitude  \n",
       "105     -32.150100  115.928319  \n",
       "119     -32.150100  115.928319  \n",
       "425     -32.150100  115.928319  \n",
       "685     -32.150100  115.928319  \n",
       "869     -32.150100  115.928319  \n",
       "...            ...         ...  \n",
       "2180147 -37.893759  145.056075  \n",
       "2181192 -34.130174  150.739602  \n",
       "2181193 -34.130174  150.739602  \n",
       "2181893 -38.006377  145.166018  \n",
       "2181914 -27.385400  153.033216  \n",
       "\n",
       "[18554 rows x 16 columns]"
      ]
     },
     "execution_count": 3,
     "metadata": {},
     "output_type": "execute_result"
    }
   ],
   "source": [
    "df_tw[df_tw['cleaned_text'].str.contains('job')]"
   ]
  },
  {
   "cell_type": "code",
   "execution_count": 4,
   "metadata": {},
   "outputs": [
    {
     "data": {
      "text/plain": [
       "555858"
      ]
     },
     "execution_count": 4,
     "metadata": {},
     "output_type": "execute_result"
    }
   ],
   "source": [
    "len(df_fam)+len(df_job)+len(df_cov)"
   ]
  },
  {
   "cell_type": "code",
   "execution_count": 5,
   "metadata": {},
   "outputs": [
    {
     "name": "stdout",
     "output_type": "stream",
     "text": [
      "The number of positive is 973101: 0.4018755273294488\n",
      "The number of very positive is 413: 0.000170562554952736\n",
      "The number of neutral is 947741: 0.3914022430834406\n",
      "The number of negative is 499873: 0.20643974826123246\n",
      "The number of very negative is 271: 0.00011191877092540305\n"
     ]
    },
    {
     "data": {
      "image/png": "[encoded data removed]",
      "text/plain": [
       "<Figure size 640x480 with 1 Axes>"
      ]
     },
     "metadata": {},
     "output_type": "display_data"
    }
   ],
   "source": [
    "df_twall = pd.read_csv('../Data/twitter_clean.csv')\n",
    "#df_twall = df_twall.drop(df_tw.keys()[0], axis=1)\n",
    "df_twall[\"Latitude\"] = (df_twall[\"bottom\"] + df_twall[\"top\"])/2\n",
    "df_twall[\"Longitude\"] = (df_twall[\"left\"] + df_twall[\"right\"])/2\n",
    "\n",
    "df_twall[\"sentiment_la\"]=df_twall[\"sentiment\"].map(lambda x: labeling(x))\n",
    "num_total = len(df_twall)\n",
    "num_pos = len(df_twall[(df_twall['sentiment_la']=='positive')])\n",
    "num_vpos = len(df_twall[(df_twall['sentiment_la']=='very positive')])\n",
    "num_neu = len(df_twall[(df_twall['sentiment_la']=='neutral')])\n",
    "num_neg = len(df_twall[(df_twall['sentiment_la']=='negative')])\n",
    "num_vneg = len(df_twall[(df_twall['sentiment_la']=='very negative')])\n",
    "\n",
    "print('The number of positive is ' + str(num_pos) + \": \" + str(num_pos/num_total))\n",
    "print('The number of very positive is ' + str(num_vpos) + \": \" + str(num_vpos/num_total))\n",
    "print('The number of neutral is ' + str(num_neu) + \": \" + str(num_neu/num_total))\n",
    "print('The number of negative is ' + str(num_neg) + \": \" + str(num_neg/num_total))\n",
    "print('The number of very negative is ' + str(num_vneg) + \": \" + str(num_vneg/num_total))\n",
    "y = np.array([num_pos, num_vpos, num_neu, num_neg, num_vneg])\n",
    "mylabels = [\"Positive\", \"Very Positive \", \"Neutral\", \"Negative\", \"Very Negative\"]\n",
    "plt.pie(y, labels = mylabels)\n",
    "plt.show()"
   ]
  },
  {
   "cell_type": "code",
   "execution_count": 6,
   "metadata": {},
   "outputs": [
    {
     "name": "stdout",
     "output_type": "stream",
     "text": [
      "Perth, City of Perth, Western Australia, 6000, Australia \n",
      "[lat, long]: [-31.9558933, 115.8605855]\n"
     ]
    }
   ],
   "source": [
    "city = \"perth\"\n",
    "# get location\n",
    "locator = geopy.geocoders.Nominatim(user_agent=\"My app\") \n",
    "city = locator.geocode(city)\n",
    "location = [city.latitude, city.longitude]\n",
    "print(city, \"\\n[lat, long]:\", location)"
   ]
  },
  {
   "cell_type": "code",
   "execution_count": 7,
   "metadata": {},
   "outputs": [],
   "source": [
    "sf_gcc = gpd.read_file(\"../Data/gcc_sf/GCCSA_2021_AUST_GDA2020.shp\")\n",
    "sf_gcc['Greater Capital City'] = sf_gcc['GCC_CODE21'].str.lower()\n",
    "col = ['Greater Capital City', 'geometry']\n",
    "sf_gcc1 = sf_gcc[col]\n",
    "df_twall_sf = df_twall.merge(sf_gcc1, left_on=\"Greater Capital City\", right_on=\"Greater Capital City\")\n",
    "df_tw_sf = df_tw.merge(sf_gcc1, left_on=\"Greater Capital City\", right_on=\"Greater Capital City\")\n",
    "\n",
    "gdf_gcc = gpd.GeoDataFrame(sf_gcc)\n",
    "geoJSON_gcc = gdf_gcc[['Greater Capital City', 'geometry']].drop_duplicates('Greater Capital City').to_json()"
   ]
  },
  {
   "cell_type": "code",
   "execution_count": 8,
   "metadata": {},
   "outputs": [
    {
     "name": "stderr",
     "output_type": "stream",
     "text": [
      "/opt/anaconda3/lib/python3.9/site-packages/geopandas/geodataframe.py:1443: SettingWithCopyWarning: \n",
      "A value is trying to be set on a copy of a slice from a DataFrame.\n",
      "Try using .loc[row_indexer,col_indexer] = value instead\n",
      "\n",
      "See the caveats in the documentation: https://pandas.pydata.org/pandas-docs/stable/user_guide/indexing.html#returning-a-view-versus-a-copy\n",
      "  super().__setitem__(key, value)\n"
     ]
    }
   ],
   "source": [
    "sf_sa4 = gpd.read_file(\"../Data/sa4_sf/SA4_2021_AUST_GDA2020.shp\")\n",
    "sf_sa4['Greater Capital City'] = sf_sa4['GCC_CODE21'].str.lower()\n",
    "col = ['Greater Capital City', 'geometry', 'SA4_CODE21']\n",
    "sf_sa4_ = sf_sa4[col]\n",
    "sf_sa4_['sa4_code'] = sf_sa4_['SA4_CODE21']\n",
    "sf_sa4_ = sf_sa4_[pd.to_numeric(sf_sa4_['sa4_code'], errors='coerce').notnull()]\n",
    "sf_sa4_['sa4_code'] = sf_sa4_['sa4_code'].astype(np.int64)\n",
    "\n",
    "df_mel_sd = pd.read_csv('../Data/mel_sd.csv')\n",
    "df_mel_sd['sa4_code'] = df_mel_sd[' sa4_code_2016']\n",
    "df_mel_sd = df_mel_sd.merge(sf_sa4_, left_on=\"sa4_code\", right_on=\"sa4_code\")\n",
    "gdf_mel = gpd.GeoDataFrame(df_mel_sd)\n",
    "geoJSON_mel = gdf_mel[['sa4_code', 'geometry']].drop_duplicates('sa4_code').to_json()\n",
    "\n",
    "df_bri_sd = pd.read_csv('../Data/bri_sd.csv')\n",
    "df_bri_sd['sa4_code'] = df_bri_sd[' sa4_code_2016']\n",
    "df_bri_sd = df_bri_sd.merge(sf_sa4_, left_on=\"sa4_code\", right_on=\"sa4_code\")\n",
    "gdf_bri = gpd.GeoDataFrame(df_bri_sd)\n",
    "geoJSON_bri = gdf_bri[['sa4_code', 'geometry']].drop_duplicates('sa4_code').to_json()\n",
    "\n",
    "df_syd_sd = pd.read_csv('../Data/syd_sd.csv')\n",
    "df_syd_sd['sa4_code'] = df_syd_sd[' sa4_code_2016']\n",
    "df_syd_sd = df_syd_sd.merge(sf_sa4_, left_on=\"sa4_code\", right_on=\"sa4_code\")\n",
    "gdf_syd = gpd.GeoDataFrame(df_syd_sd)\n",
    "geoJSON_syd = gdf_syd[['sa4_code', 'geometry']].drop_duplicates('sa4_code').to_json()\n",
    "\n",
    "df_per_sd = pd.read_csv('../Data/per_sd.csv')\n",
    "df_per_sd['sa4_code'] = df_per_sd[' sa4_code_2016']\n",
    "df_per_sd = df_per_sd.merge(sf_sa4_, left_on=\"sa4_code\", right_on=\"sa4_code\")\n",
    "gdf_per = gpd.GeoDataFrame(df_per_sd)\n",
    "geoJSON_per = gdf_per[['sa4_code', 'geometry']].drop_duplicates('sa4_code').to_json()"
   ]
  },
  {
   "cell_type": "code",
   "execution_count": 9,
   "metadata": {},
   "outputs": [
    {
     "name": "stdout",
     "output_type": "stream",
     "text": [
      "0.05961853397629328\n",
      "0.10862669951102139\n",
      "0.054843756870152305\n",
      "0.07467023981539059\n",
      "0.07146553755594454\n"
     ]
    }
   ],
   "source": [
    "print(df_job['sentiment'].mean())\n",
    "print(df_fam['sentiment'].mean())\n",
    "print(df_cov['sentiment'].mean())\n",
    "print(df_tw['sentiment'].mean())\n",
    "print(df_twall['sentiment'].mean())"
   ]
  },
  {
   "cell_type": "code",
   "execution_count": 10,
   "metadata": {},
   "outputs": [
    {
     "data": {
      "text/plain": [
       "Greater Capital City\n",
       "2gmel    685379\n",
       "1gsyd    634994\n",
       "3gbri    287258\n",
       "5gper    192602\n",
       "4gade    151982\n",
       "1rnsw    144149\n",
       "2rvic    106670\n",
       "8acte     59458\n",
       "6ghob     47863\n",
       "3rqld     30642\n",
       "5rwau     22211\n",
       "7gdar     17581\n",
       "4rsau     16028\n",
       "6rtas     13928\n",
       "7rnte     10615\n",
       "9oter        39\n",
       "Name: count, dtype: int64"
      ]
     },
     "execution_count": 10,
     "metadata": {},
     "output_type": "execute_result"
    }
   ],
   "source": [
    "df_twall_sf['Greater Capital City'].value_counts()\n"
   ]
  },
  {
   "cell_type": "code",
   "execution_count": 11,
   "metadata": {},
   "outputs": [
    {
     "data": {
      "text/html": [
       "<div>\n",
       "<style scoped>\n",
       "    .dataframe tbody tr th:only-of-type {\n",
       "        vertical-align: middle;\n",
       "    }\n",
       "\n",
       "    .dataframe tbody tr th {\n",
       "        vertical-align: top;\n",
       "    }\n",
       "\n",
       "    .dataframe thead th {\n",
       "        text-align: right;\n",
       "    }\n",
       "</style>\n",
       "<table border=\"1\" class=\"dataframe\">\n",
       "  <thead>\n",
       "    <tr style=\"text-align: right;\">\n",
       "      <th></th>\n",
       "      <th>Greater Capital City</th>\n",
       "      <th>geometry</th>\n",
       "      <th>SA4_CODE21</th>\n",
       "      <th>sa4_code</th>\n",
       "    </tr>\n",
       "  </thead>\n",
       "  <tbody>\n",
       "    <tr>\n",
       "      <th>0</th>\n",
       "      <td>1rnsw</td>\n",
       "      <td>MULTIPOLYGON (((150.05261 -37.26253, 150.05251...</td>\n",
       "      <td>101</td>\n",
       "      <td>101</td>\n",
       "    </tr>\n",
       "    <tr>\n",
       "      <th>1</th>\n",
       "      <td>1gsyd</td>\n",
       "      <td>MULTIPOLYGON (((151.31497 -33.55578, 151.31496...</td>\n",
       "      <td>102</td>\n",
       "      <td>102</td>\n",
       "    </tr>\n",
       "    <tr>\n",
       "      <th>2</th>\n",
       "      <td>1rnsw</td>\n",
       "      <td>POLYGON ((150.14236 -32.34153, 150.14255 -32.3...</td>\n",
       "      <td>103</td>\n",
       "      <td>103</td>\n",
       "    </tr>\n",
       "    <tr>\n",
       "      <th>3</th>\n",
       "      <td>1rnsw</td>\n",
       "      <td>MULTIPOLYGON (((153.07639 -30.42982, 153.07645...</td>\n",
       "      <td>104</td>\n",
       "      <td>104</td>\n",
       "    </tr>\n",
       "    <tr>\n",
       "      <th>4</th>\n",
       "      <td>1rnsw</td>\n",
       "      <td>POLYGON ((148.67619 -29.50976, 148.67662 -29.5...</td>\n",
       "      <td>105</td>\n",
       "      <td>105</td>\n",
       "    </tr>\n",
       "  </tbody>\n",
       "</table>\n",
       "</div>"
      ],
      "text/plain": [
       "  Greater Capital City                                           geometry   \n",
       "0                1rnsw  MULTIPOLYGON (((150.05261 -37.26253, 150.05251...  \\\n",
       "1                1gsyd  MULTIPOLYGON (((151.31497 -33.55578, 151.31496...   \n",
       "2                1rnsw  POLYGON ((150.14236 -32.34153, 150.14255 -32.3...   \n",
       "3                1rnsw  MULTIPOLYGON (((153.07639 -30.42982, 153.07645...   \n",
       "4                1rnsw  POLYGON ((148.67619 -29.50976, 148.67662 -29.5...   \n",
       "\n",
       "  SA4_CODE21  sa4_code  \n",
       "0        101       101  \n",
       "1        102       102  \n",
       "2        103       103  \n",
       "3        104       104  \n",
       "4        105       105  "
      ]
     },
     "execution_count": 11,
     "metadata": {},
     "output_type": "execute_result"
    }
   ],
   "source": [
    "sf_sa4_.head()"
   ]
  },
  {
   "cell_type": "code",
   "execution_count": 12,
   "metadata": {},
   "outputs": [],
   "source": [
    "m_Twitterall = folium.Map(location=[-20.81,124.96], zoom_start=5)\n",
    "c = folium.Choropleth(\n",
    "    geo_data = geoJSON_gcc,\n",
    "    name = 'choropleth',\n",
    "    data = df_twall_sf,\n",
    "    columns = ['Greater Capital City','sentiment'],\n",
    "    key_on= 'feature.properties.Greater Capital City',\n",
    "    fill_color = 'YlOrRd',\n",
    "    nan_fill_color = 'white',\n",
    "    legend_name = 'sentiment'\n",
    ")\n",
    "c.add_to(m_Twitterall)\n",
    "m_Twitterall.save('../Data/Twitter_all.html')"
   ]
  },
  {
   "cell_type": "code",
   "execution_count": 13,
   "metadata": {},
   "outputs": [
    {
     "data": {
      "text/plain": [
       "Index(['Unnamed: 0', 'As at 30 June, family tax benefit B',\n",
       "       'disability support ', ' yr', 'rent assistant ', ' sa4_code_2016',\n",
       "       ' sa4_name_2016', 'Youth allowance ', 'family tax A benefit ',\n",
       "       'Greater Capital City_x', 'sa4_code', 'Greater Capital City_y',\n",
       "       'geometry', 'SA4_CODE21'],\n",
       "      dtype='object')"
      ]
     },
     "execution_count": 13,
     "metadata": {},
     "output_type": "execute_result"
    }
   ],
   "source": [
    "df_mel_sd.keys()"
   ]
  },
  {
   "cell_type": "code",
   "execution_count": 14,
   "metadata": {},
   "outputs": [],
   "source": [
    "m_mel = folium.Map(location=[-37.81,144.96], zoom_start=9)\n",
    "c = folium.Choropleth(\n",
    "    geo_data = geoJSON_mel,\n",
    "    name = 'choropleth',\n",
    "    data = df_mel_sd,\n",
    "    columns = ['sa4_code','Youth allowance '],\n",
    "    key_on= 'feature.properties.sa4_code',\n",
    "    fill_color = 'YlOrRd',\n",
    "    nan_fill_color = 'white',\n",
    "    legend_name = 'Number of people git youth allowance'\n",
    ")\n",
    "c.add_to(m_mel)\n",
    "m_mel.save('../Data/Mel_ya.html')"
   ]
  },
  {
   "cell_type": "code",
   "execution_count": 15,
   "metadata": {},
   "outputs": [],
   "source": [
    "m_bri = folium.Map(location=[-27.4689682, 153.0234991], zoom_start=9)\n",
    "c = folium.Choropleth(\n",
    "    geo_data = geoJSON_bri,\n",
    "    name = 'choropleth',\n",
    "    data = df_bri_sd,\n",
    "    columns = ['sa4_code','Youth allowance '],\n",
    "    key_on= 'feature.properties.sa4_code',\n",
    "    fill_color = 'YlOrRd',\n",
    "    nan_fill_color = 'white',\n",
    "    legend_name = 'Number of people git youth allowance'\n",
    ")\n",
    "c.add_to(m_bri)\n",
    "m_bri.save('../Data/Bri_ya.html')"
   ]
  },
  {
   "cell_type": "code",
   "execution_count": 16,
   "metadata": {},
   "outputs": [],
   "source": [
    "m_syd = folium.Map(location=[-33.8698439, 151.2082848], zoom_start=9)\n",
    "c = folium.Choropleth(\n",
    "    geo_data = geoJSON_syd,\n",
    "    name = 'choropleth',\n",
    "    data = df_syd_sd,\n",
    "    columns = ['sa4_code','Youth allowance '],\n",
    "    key_on= 'feature.properties.sa4_code',\n",
    "    fill_color = 'YlOrRd',\n",
    "    nan_fill_color = 'white',\n",
    "    legend_name = 'Number of people git youth allowance'\n",
    ")\n",
    "c.add_to(m_syd)\n",
    "m_syd.save('../Data/Syd_ya.html')"
   ]
  },
  {
   "cell_type": "code",
   "execution_count": 17,
   "metadata": {},
   "outputs": [],
   "source": [
    "m_per = folium.Map(location=[-31.9558933, 115.8605855], zoom_start=9)\n",
    "c = folium.Choropleth(\n",
    "    geo_data = geoJSON_per,\n",
    "    name = 'choropleth',\n",
    "    data = df_per_sd,\n",
    "    columns = ['sa4_code','Youth allowance '],\n",
    "    key_on= 'feature.properties.sa4_code',\n",
    "    fill_color = 'YlOrRd',\n",
    "    nan_fill_color = 'white',\n",
    "    legend_name = 'Number of people git youth allowance'\n",
    ")\n",
    "c.add_to(m_per)\n",
    "m_per.save('../Data/Per_ya.html')"
   ]
  },
  {
   "cell_type": "code",
   "execution_count": 18,
   "metadata": {},
   "outputs": [],
   "source": [
    "df_tw_mel = df_tw.loc[df_tw['gcc']=='melbourne']\n",
    "df_tw_mel_eg = df_tw_mel.loc[(df_tw_mel['sentiment'] < -1) | (df_tw_mel['sentiment'] > 1)]\n",
    "df_tw_mel_eg.loc[df_tw_mel_eg[\"sentiment\"]>0, [\"color\"]] = \"More_positive\"\n",
    "df_tw_mel_eg.loc[df_tw_mel_eg[\"sentiment\"]<0, [\"color\"]] = \"More_negative\""
   ]
  },
  {
   "cell_type": "code",
   "execution_count": 19,
   "metadata": {},
   "outputs": [],
   "source": [
    "df_tw_syd = df_tw.loc[df_tw['gcc']=='sydney']\n",
    "df_tw_syd_eg = df_tw_syd.loc[(df_tw_syd['sentiment'] < -1) | (df_tw_syd['sentiment'] > 1)]\n",
    "df_tw_syd_eg.loc[df_tw_syd_eg[\"sentiment\"]>0, [\"color\"]] = \"More_positive\"\n",
    "df_tw_syd_eg.loc[df_tw_syd_eg[\"sentiment\"]<0, [\"color\"]] = \"More_negative\""
   ]
  },
  {
   "cell_type": "code",
   "execution_count": 20,
   "metadata": {},
   "outputs": [
    {
     "data": {
      "text/plain": [
       "left\n",
       "150.520929    524566\n",
       "151.197033       114\n",
       "151.198850         6\n",
       "151.206183         5\n",
       "Name: count, dtype: int64"
      ]
     },
     "execution_count": 20,
     "metadata": {},
     "output_type": "execute_result"
    }
   ],
   "source": [
    "df_tw_syd['left'].value_counts()"
   ]
  },
  {
   "cell_type": "code",
   "execution_count": 21,
   "metadata": {},
   "outputs": [
    {
     "data": {
      "text/plain": [
       "bottom\n",
       "-34.118347    524566\n",
       "-33.879703       114\n",
       "-33.893497         6\n",
       "-33.873284         5\n",
       "Name: count, dtype: int64"
      ]
     },
     "execution_count": 21,
     "metadata": {},
     "output_type": "execute_result"
    }
   ],
   "source": [
    "df_tw_syd['bottom'].value_counts()"
   ]
  },
  {
   "cell_type": "code",
   "execution_count": 22,
   "metadata": {},
   "outputs": [
    {
     "data": {
      "text/plain": [
       "top\n",
       "-33.578141    524566\n",
       "-33.856109       114\n",
       "-33.893497         6\n",
       "-33.873284         5\n",
       "Name: count, dtype: int64"
      ]
     },
     "execution_count": 22,
     "metadata": {},
     "output_type": "execute_result"
    }
   ],
   "source": [
    "df_tw_syd['top'].value_counts()"
   ]
  },
  {
   "cell_type": "code",
   "execution_count": 23,
   "metadata": {},
   "outputs": [],
   "source": [
    "colors = {'More_negative' : 'red', 'More_positive' : 'blue'}\n",
    "\n",
    "m_mel_eg = folium.Map(location=[-38.043995, 145.264296], zoom_start=11)\n",
    "\n",
    "df_tw_mel_eg.apply(lambda row:folium.CircleMarker(location=[row[\"Latitude\"], row[\"Longitude\"]], \n",
    "                                              radius=10, fill_color=colors[row['color']])\n",
    "                                             .add_to(m_mel_eg), axis=1)\n",
    "m_mel_eg.save('../Data/Mel_eg_senti.html')"
   ]
  },
  {
   "cell_type": "code",
   "execution_count": 24,
   "metadata": {},
   "outputs": [],
   "source": [
    "colors = {'More_negative' : 'red', 'More_positive' : 'blue'}\n",
    "\n",
    "m_syd_eg = folium.Map(location=[-33.8698439, 151.2082848], zoom_start=11)\n",
    "\n",
    "df_tw_syd_eg.apply(lambda row:folium.CircleMarker(location=[row[\"Latitude\"], row[\"Longitude\"]], \n",
    "                                              radius=10, fill_color=colors[row['color']])\n",
    "                                             .add_to(m_syd_eg), axis=1)\n",
    "m_syd_eg.save('../Data/Syd_eg_senti.html')"
   ]
  },
  {
   "cell_type": "code",
   "execution_count": 25,
   "metadata": {},
   "outputs": [
    {
     "data": {
      "text/plain": [
       "Index(['Unnamed: 0', 'author_id', 'cleaned_text', 'sentiment', 'gcc', 'left',\n",
       "       'bottom', 'right', 'top', 'Language', 'Greater Capital City',\n",
       "       'Topic_key_word', 'Key words', 'sentiment_la', 'Latitude', 'Longitude',\n",
       "       'color'],\n",
       "      dtype='object')"
      ]
     },
     "execution_count": 25,
     "metadata": {},
     "output_type": "execute_result"
    }
   ],
   "source": [
    "df_tw_mel_eg.keys()"
   ]
  }
 ],
 "metadata": {
  "kernelspec": {
   "display_name": "base",
   "language": "python",
   "name": "python3"
  },
  "language_info": {
   "codemirror_mode": {
    "name": "ipython",
    "version": 3
   },
   "file_extension": ".py",
   "mimetype": "text/x-python",
   "name": "python",
   "nbconvert_exporter": "python",
   "pygments_lexer": "ipython3",
   "version": "3.9.13"
  },
  "orig_nbformat": 4
 },
 "nbformat": 4,
 "nbformat_minor": 2
}
