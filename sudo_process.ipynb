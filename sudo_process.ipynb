{
 "cells": [
  {
   "cell_type": "code",
   "execution_count": 40,
   "metadata": {},
   "outputs": [],
   "source": [
    "import pandas as pd"
   ]
  },
  {
   "cell_type": "code",
   "execution_count": 44,
   "metadata": {},
   "outputs": [],
   "source": [
    "df_sd = pd.read_csv('../Data/abs_data_by_region_income_asgs_sa4_2011_2019-6392074549679032401 1.csv')\n",
    "df_sd[' sa4_name_2016'] = df_sd[' sa4_name_2016'].apply(str.lower)"
   ]
  },
  {
   "cell_type": "code",
   "execution_count": 45,
   "metadata": {},
   "outputs": [],
   "source": [
    "mel_sd = df_sd[df_sd[' sa4_name_2016'].str.contains('melbourne')]\n",
    "bri_sd = df_sd[df_sd[' sa4_name_2016'].str.contains('brisbane')]\n",
    "syd_sd = df_sd[df_sd[' sa4_name_2016'].str.contains('sydney')]\n",
    "per_sd = df_sd[df_sd[' sa4_name_2016'].str.contains('perth')]"
   ]
  },
  {
   "cell_type": "code",
   "execution_count": 46,
   "metadata": {},
   "outputs": [],
   "source": [
    "mel_sd.to_csv('../Data/mel_sd.csv')\n",
    "bri_sd.to_csv('../Data/bri_sd.csv')"
   ]
  },
  {
   "cell_type": "code",
   "execution_count": null,
   "metadata": {},
   "outputs": [],
   "source": []
  }
 ],
 "metadata": {
  "kernelspec": {
   "display_name": "base",
   "language": "python",
   "name": "python3"
  },
  "language_info": {
   "codemirror_mode": {
    "name": "ipython",
    "version": 3
   },
   "file_extension": ".py",
   "mimetype": "text/x-python",
   "name": "python",
   "nbconvert_exporter": "python",
   "pygments_lexer": "ipython3",
   "version": "3.9.13"
  },
  "orig_nbformat": 4
 },
 "nbformat": 4,
 "nbformat_minor": 2
}
