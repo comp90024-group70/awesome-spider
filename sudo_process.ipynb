{
 "cells": [
  {
   "cell_type": "code",
   "execution_count": 2,
   "metadata": {},
   "outputs": [],
   "source": [
    "import pandas as pd\n",
    "import json"
   ]
  },
  {
   "cell_type": "code",
   "execution_count": 3,
   "metadata": {},
   "outputs": [],
   "source": [
    "df_fam = pd.read_csv('../Data/sa4_family.csv')\n",
    "df_fam[' sa4_name_2016'] = df_fam[' sa4_name_2016'].apply(str.lower)\n",
    "df_fam['Greater Capital City'] = df_fam[' sa4_name_2016']"
   ]
  },
  {
   "cell_type": "code",
   "execution_count": 4,
   "metadata": {},
   "outputs": [],
   "source": [
    "mel_sd = df_fam[df_fam[' sa4_name_2016'].str.contains('melbourne')]\n",
    "bri_sd = df_fam[df_fam[' sa4_name_2016'].str.contains('brisbane')]\n",
    "syd_sd = df_fam[df_fam[' sa4_name_2016'].str.contains('sydney')]\n",
    "per_sd = df_fam[df_fam[' sa4_name_2016'].str.contains('perth')]"
   ]
  },
  {
   "cell_type": "code",
   "execution_count": 5,
   "metadata": {},
   "outputs": [],
   "source": [
    "mel_sd.to_csv('../Data/mel_sd.csv')\n",
    "bri_sd.to_csv('../Data/bri_sd.csv')\n",
    "syd_sd.to_csv('../Data/syd_sd.csv')\n",
    "per_sd.to_csv('../Data/per_sd.csv')"
   ]
  },
  {
   "cell_type": "code",
   "execution_count": 6,
   "metadata": {},
   "outputs": [],
   "source": [
    "df_j = pd.read_csv('../Data/sa4_job.csv')\n",
    "df_j[' sa4_name_2016'] = df_fam[' sa4_name_2016'].apply(str.lower)\n",
    "mel = df_j[df_j[' sa4_name_2016'].str.contains('melbourne')]\n",
    "bri = df_j[df_j[' sa4_name_2016'].str.contains('brisbane')]\n",
    "syd = df_j[df_j[' sa4_name_2016'].str.contains('sydney')]\n",
    "per = df_j[df_j[' sa4_name_2016'].str.contains('perth')]"
   ]
  },
  {
   "cell_type": "code",
   "execution_count": 7,
   "metadata": {},
   "outputs": [
    {
     "data": {
      "text/plain": [
       "10.000000059624998"
      ]
     },
     "execution_count": 7,
     "metadata": {},
     "output_type": "execute_result"
    }
   ],
   "source": [
    "mel['youth_unemployment_rate_age_15_24'].mean()"
   ]
  },
  {
   "cell_type": "code",
   "execution_count": 8,
   "metadata": {},
   "outputs": [
    {
     "data": {
      "text/plain": [
       "9.979999828799999"
      ]
     },
     "execution_count": 8,
     "metadata": {},
     "output_type": "execute_result"
    }
   ],
   "source": [
    "bri['youth_unemployment_rate_age_15_24'].mean()"
   ]
  },
  {
   "cell_type": "code",
   "execution_count": 9,
   "metadata": {},
   "outputs": [
    {
     "data": {
      "text/plain": [
       "9.892857159857142"
      ]
     },
     "execution_count": 9,
     "metadata": {},
     "output_type": "execute_result"
    }
   ],
   "source": [
    "syd['youth_unemployment_rate_age_15_24'].mean()"
   ]
  },
  {
   "cell_type": "code",
   "execution_count": 10,
   "metadata": {},
   "outputs": [
    {
     "data": {
      "text/plain": [
       "10.8"
      ]
     },
     "execution_count": 10,
     "metadata": {},
     "output_type": "execute_result"
    }
   ],
   "source": [
    "per['youth_unemployment_rate_age_15_24'].mean()"
   ]
  },
  {
   "cell_type": "code",
   "execution_count": null,
   "metadata": {},
   "outputs": [],
   "source": []
  }
 ],
 "metadata": {
  "kernelspec": {
   "display_name": "base",
   "language": "python",
   "name": "python3"
  },
  "language_info": {
   "codemirror_mode": {
    "name": "ipython",
    "version": 3
   },
   "file_extension": ".py",
   "mimetype": "text/x-python",
   "name": "python",
   "nbconvert_exporter": "python",
   "pygments_lexer": "ipython3",
   "version": "3.9.13"
  },
  "orig_nbformat": 4
 },
 "nbformat": 4,
 "nbformat_minor": 2
}
